{
 "cells": [
  {
   "cell_type": "code",
   "execution_count": 1,
   "id": "2b965d56-266d-4f4b-96b9-cb76bbe22eaf",
   "metadata": {},
   "outputs": [
    {
     "name": "stdout",
     "output_type": "stream",
     "text": [
      "\n",
      "Welcome to the Bank!\n",
      "1. Create a new account\n",
      "2. Login\n",
      "3. Exit\n"
     ]
    },
    {
     "name": "stdin",
     "output_type": "stream",
     "text": [
      "Enter your choice:  1\n",
      "Enter your new username:  fathima\n",
      "Enter your new password:  123456\n"
     ]
    },
    {
     "name": "stdout",
     "output_type": "stream",
     "text": [
      "Account created successfully.\n",
      "\n",
      "Welcome to the Bank!\n",
      "1. Create a new account\n",
      "2. Login\n",
      "3. Exit\n"
     ]
    },
    {
     "name": "stdin",
     "output_type": "stream",
     "text": [
      "Enter your choice:  2\n",
      "Enter your username:  fathima\n",
      "Enter your password:  12345\n"
     ]
    },
    {
     "name": "stdout",
     "output_type": "stream",
     "text": [
      "Invalid username or password.\n",
      "\n",
      "Welcome to the Bank!\n",
      "1. Create a new account\n",
      "2. Login\n",
      "3. Exit\n"
     ]
    },
    {
     "name": "stdin",
     "output_type": "stream",
     "text": [
      "Enter your choice:  2\n",
      "Enter your username:  fathima\n",
      "Enter your password:  123456\n"
     ]
    },
    {
     "name": "stdout",
     "output_type": "stream",
     "text": [
      "Login successful! Welcome fathima\n",
      "\n",
      "Account Menu:\n",
      "1. Deposit\n",
      "2. Withdraw\n",
      "3. Check Balance\n",
      "4. Transaction History\n",
      "5. Logout\n"
     ]
    },
    {
     "name": "stdin",
     "output_type": "stream",
     "text": [
      "Enter your option:  1\n",
      "Enter the amount to deposit:  1000\n"
     ]
    },
    {
     "name": "stdout",
     "output_type": "stream",
     "text": [
      "Deposit successful.\n",
      "\n",
      "Account Menu:\n",
      "1. Deposit\n",
      "2. Withdraw\n",
      "3. Check Balance\n",
      "4. Transaction History\n",
      "5. Logout\n"
     ]
    },
    {
     "name": "stdin",
     "output_type": "stream",
     "text": [
      "Enter your option:  3\n"
     ]
    },
    {
     "name": "stdout",
     "output_type": "stream",
     "text": [
      "Your account balance is: $1000.0\n",
      "\n",
      "Account Menu:\n",
      "1. Deposit\n",
      "2. Withdraw\n",
      "3. Check Balance\n",
      "4. Transaction History\n",
      "5. Logout\n"
     ]
    },
    {
     "name": "stdin",
     "output_type": "stream",
     "text": [
      "Enter your option:  2\n",
      "Enter the amount to withdraw:  500\n"
     ]
    },
    {
     "name": "stdout",
     "output_type": "stream",
     "text": [
      "Withdrawal successful.\n",
      "\n",
      "Account Menu:\n",
      "1. Deposit\n",
      "2. Withdraw\n",
      "3. Check Balance\n",
      "4. Transaction History\n",
      "5. Logout\n"
     ]
    },
    {
     "name": "stdin",
     "output_type": "stream",
     "text": [
      "Enter your option:  3\n"
     ]
    },
    {
     "name": "stdout",
     "output_type": "stream",
     "text": [
      "Your account balance is: $500.0\n",
      "\n",
      "Account Menu:\n",
      "1. Deposit\n",
      "2. Withdraw\n",
      "3. Check Balance\n",
      "4. Transaction History\n",
      "5. Logout\n"
     ]
    },
    {
     "name": "stdin",
     "output_type": "stream",
     "text": [
      "Enter your option:  4\n"
     ]
    },
    {
     "name": "stdout",
     "output_type": "stream",
     "text": [
      "Transaction History:\n",
      "Deposited $1000.0\n",
      "Withdrew $500.0\n",
      "\n",
      "Account Menu:\n",
      "1. Deposit\n",
      "2. Withdraw\n",
      "3. Check Balance\n",
      "4. Transaction History\n",
      "5. Logout\n"
     ]
    },
    {
     "name": "stdin",
     "output_type": "stream",
     "text": [
      "Enter your option:  6\n"
     ]
    },
    {
     "name": "stdout",
     "output_type": "stream",
     "text": [
      "Invalid option. Please try again.\n",
      "\n",
      "Account Menu:\n",
      "1. Deposit\n",
      "2. Withdraw\n",
      "3. Check Balance\n",
      "4. Transaction History\n",
      "5. Logout\n"
     ]
    },
    {
     "name": "stdin",
     "output_type": "stream",
     "text": [
      "Enter your option:  5\n"
     ]
    },
    {
     "name": "stdout",
     "output_type": "stream",
     "text": [
      "Logged out.\n",
      "\n",
      "Welcome to the Bank!\n",
      "1. Create a new account\n",
      "2. Login\n",
      "3. Exit\n"
     ]
    },
    {
     "name": "stdin",
     "output_type": "stream",
     "text": [
      "Enter your choice:  3\n"
     ]
    },
    {
     "name": "stdout",
     "output_type": "stream",
     "text": [
      "Thank you for banking with us. Goodbye!\n"
     ]
    }
   ],
   "source": [
    "class BankAccount:\n",
    "    def __init__(self, username, password):\n",
    "        self.username = username\n",
    "        self.password = password\n",
    "        self.balance = 0\n",
    "        self.transactions = []\n",
    "\n",
    "    def deposit(self, amount):\n",
    "        if amount > 0:\n",
    "            self.balance += amount\n",
    "            self.transactions.append(f\"Deposited ${amount}\")\n",
    "            return True\n",
    "        else:\n",
    "            return False\n",
    "\n",
    "    def withdraw(self, amount):\n",
    "        if amount > 0 and amount <= self.balance:\n",
    "            self.balance -= amount\n",
    "            self.transactions.append(f\"Withdrew ${amount}\")\n",
    "            return True\n",
    "        else:\n",
    "            return False\n",
    "\n",
    "    def display_balance(self):\n",
    "        return self.balance\n",
    "\n",
    "    def get_transaction_history(self):\n",
    "        return self.transactions\n",
    "\n",
    "\n",
    "class Bank:\n",
    "    def __init__(self):\n",
    "        self.accounts = {}\n",
    "\n",
    "    def create_account(self, username, password):\n",
    "        if username not in self.accounts:\n",
    "            self.accounts[username] = BankAccount(username, password)\n",
    "            return True\n",
    "        else:\n",
    "            return False\n",
    "\n",
    "    def login(self, username, password):\n",
    "        if username in self.accounts:\n",
    "            account = self.accounts[username]\n",
    "            if account.password == password:\n",
    "                return account\n",
    "        return None\n",
    "\n",
    "\n",
    "def main():\n",
    "    bank = Bank()\n",
    "\n",
    "    while True:\n",
    "        print(\"\\nWelcome to the Bank!\")\n",
    "        print(\"1. Create a new account\")\n",
    "        print(\"2. Login\")\n",
    "        print(\"3. Exit\")\n",
    "        choice = input(\"Enter your choice: \")\n",
    "\n",
    "        if choice == \"2\":\n",
    "            username = input(\"Enter your username: \")\n",
    "            password = input(\"Enter your password: \")\n",
    "            account = bank.login(username, password)\n",
    "            if account:\n",
    "                print(f\"Login successful! Welcome {username}\")\n",
    "                while True:\n",
    "                    print(\"\\nAccount Menu:\")\n",
    "                    print(\"1. Deposit\")\n",
    "                    print(\"2. Withdraw\")\n",
    "                    print(\"3. Check Balance\")\n",
    "                    print(\"4. Transaction History\")\n",
    "                    print(\"5. Logout\")\n",
    "                    option = input(\"Enter your option: \")\n",
    "\n",
    "                    if option == \"1\":\n",
    "                        amount = float(input(\"Enter the amount to deposit: \"))\n",
    "                        if account.deposit(amount):\n",
    "                            print(\"Deposit successful.\")\n",
    "                        else:\n",
    "                            print(\"Invalid amount.\")\n",
    "\n",
    "                    elif option == \"2\":\n",
    "                        amount = float(input(\"Enter the amount to withdraw: \"))\n",
    "                        if account.withdraw(amount):\n",
    "                            print(\"Withdrawal successful.\")\n",
    "                        else:\n",
    "                            print(\"Invalid amount or insufficient balance.\")\n",
    "\n",
    "                    elif option == \"3\":\n",
    "                        print(f\"Your account balance is: ${account.display_balance()}\")\n",
    "\n",
    "                    elif option == \"4\":\n",
    "                        print(\"Transaction History:\")\n",
    "                        for transaction in account.get_transaction_history():\n",
    "                            print(transaction)\n",
    "\n",
    "                    elif option == \"5\":\n",
    "                        print(\"Logged out.\")\n",
    "                        break\n",
    "\n",
    "                    else:\n",
    "                        print(\"Invalid option. Please try again.\")\n",
    "\n",
    "            else:\n",
    "                print(\"Invalid username or password.\")\n",
    "\n",
    "        elif choice == \"1\":\n",
    "            username = input(\"Enter your new username: \")\n",
    "            password = input(\"Enter your new password: \")\n",
    "            if bank.create_account(username, password):\n",
    "                print(\"Account created successfully.\")\n",
    "            else:\n",
    "                print(\"Username already exists. Please choose another one.\")\n",
    "\n",
    "        elif choice == \"3\":\n",
    "            print(\"Thank you for banking with us. Goodbye!\")\n",
    "            break\n",
    "\n",
    "        else:\n",
    "            print(\"Invalid option. Please try again.\")\n",
    "\n",
    "\n",
    "if __name__ == \"__main__\":\n",
    "    main()\n"
   ]
  },
  {
   "cell_type": "code",
   "execution_count": null,
   "id": "3db9dc47-6705-4484-9a20-5f8bb91391b8",
   "metadata": {},
   "outputs": [],
   "source": []
  }
 ],
 "metadata": {
  "kernelspec": {
   "display_name": "Python 3 (ipykernel)",
   "language": "python",
   "name": "python3"
  },
  "language_info": {
   "codemirror_mode": {
    "name": "ipython",
    "version": 3
   },
   "file_extension": ".py",
   "mimetype": "text/x-python",
   "name": "python",
   "nbconvert_exporter": "python",
   "pygments_lexer": "ipython3",
   "version": "3.11.4"
  }
 },
 "nbformat": 4,
 "nbformat_minor": 5
}
